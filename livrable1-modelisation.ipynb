{
 "cells": [
  {
   "cell_type": "markdown",
   "id": "bf6d9380",
   "metadata": {},
   "source": [
    "<h1 align=\"center\">LIVRABLE 1 - MODELISATION</h1>"
   ]
  },
  {
   "cell_type": "markdown",
   "id": "e5c5d2d0",
   "metadata": {},
   "source": [
    "# INTRODUCTION\n",
    "\n",
    "## Sujet du projet\n",
    "\n",
    "<table>\n",
    "  <tr>\n",
    "    <td width=\"40%\">\n",
    "      <img src=\"https://github.com/user-attachments/assets/c4b4d22e-8b48-47c1-81a0-a538b690cea0\" alt=\"image_projet\" width=\"100%\">\n",
    "    </td>\n",
    "    <td width=\"60%\">\n",
    "      Depuis les années 90, il y a eu une véritable prise de conscience mondiale de la nécessité de réduire la consommation d'énergie et des émissions de gaz à effet de serre. Les premiers engagements sont apparus lors de la signature du protocole de Kyoto en 1997. Mais son entrée en vigueur n'a finalement eu lieu qu'en 2005 et de nombreux scientifiques ont jugé les efforts insuffisants pour ralentir le réchauffement climatique. Depuis, d'autres engagements plus ambitieux ont vu le jour (division par 4 des émissions d'ici 2050 pour la France par exemple, engagements de certaines grandes villes comme Paris). Mais la tâche est compliquée. Les pouvoirs publics et les collectivités territoriales n'ont pas la possibilité d'obliger les entreprises et les particuliers à changer leurs habitudes pour atteindre ces objectifs. L'action se porte donc avant tout à faire évoluer les comportements. L'économie et le recyclage des matières premières, l'amélioration des modes de transports et des performances énergétiques des bâtiments doivent devenir des priorités. \n",
    "    </td>\n",
    "  </tr>\n",
    "</table>\n",
    "\n",
    "## Reformulation de la demande\n",
    "\n",
    "L’ADEME a lancé un appel à manifestation d’intérêt visant à promouvoir des solutions innovantes et écoresponsables dans le domaine de la mobilité, aussi bien pour les personnes que pour les marchandises. Dans ce cadre, la structure CesiCDP, experte en mobilité intelligente, est missionnée pour proposer un démonstrateur capable de répondre à ces enjeux environnementaux.\n",
    "\n",
    "Le projet porte sur l’optimisation des tournées de transport avec un double objectif : limiter les distances parcourues et réduire la consommation énergétique des véhicules. Il s’agit d’étudier un problème algorithmique complexe, inspiré du problème du voyageur de commerce (TSP), en y intégrant des contraintes réalistes comme les fenêtres temporelles ou les coûts différenciés de certaines routes.\n",
    "\n",
    "\n",
    "## Enjeux\n",
    "\n",
    "Les enjeux du projet sont multiples, tant sur le plan environnemental qu'opérationnel :\n",
    "\n",
    "- __Réduction des émissions de gaz à effet de serre__ : en optimisant les trajets et en évitant les itinéraires énergivores ou inutiles.\n",
    "- __Meilleure gestion des ressources logistiques__ : grâce à une planification plus intelligente des tournées.\n",
    "- __Adaptation à des contraintes terrain__ : telles que des horaires de livraison ou des routes temporairement impraticables.\n",
    "- __Apport technologique__ : démonstration de la faisabilité d’un algorithme robuste, capable de gérer des cas réalistes et contraints.\n",
    "\n",
    "\n",
    "## Objectif\n",
    "\n",
    "L’objectif de ce projet est de modéliser un problème d’optimisation inspiré du problème du voyageur de commerce (TSP), adapté à un contexte réel avec nos contraintes supplémentaires.\n",
    "\n",
    "Le premier livrable vise donc à :\n",
    "\n",
    "- Proposer une **formulation mathématique rigoureuse** du problème \n",
    "- Identifier la **classe de complexité** du problème la démontrer\n",
    "- Montrer que, même si une résolution exacte est hors de portée en temps polynomial, une **vérification de solution** reste faisable efficacement\n",
    "- Préparer la suite du projet en définissant un cadre clair pour tester ultérieurement des approches d’**optimisation** ou des **heuristiques**\n",
    "\n"
   ]
  },
  {
   "cell_type": "markdown",
   "id": "1c231766",
   "metadata": {},
   "source": [
    "# MODELISATION\n",
    "\n",
    "\n",
    "## Choix des contraintes (+ pourquoi ?)\n",
    "\n",
    "\n",
    "## Représentation du problème (Pourquoi on peut utiliser des graphes ?)\n",
    "\n",
    "## Problème du voyageur de commerce\n",
    "\n",
    "### 1 problème de décision\n",
    "\n",
    "### 2 Problème d'optimisation \n",
    "\n",
    "### 3 Preuve de la non-resolvalibilité en compléxité polynomiale\n",
    "\n",
    "### 4 Vérificateur\n",
    "\n",
    "### 5 NP-Hard\n",
    "\n",
    "\n",
    "## Réduction de notre problème avec CONTRAINTE 1\n",
    "\n",
    "## Réduction de notre problème avec CONTRAINTE 2\n"
   ]
  }
 ],
 "metadata": {
  "language_info": {
   "name": "python"
  }
 },
 "nbformat": 4,
 "nbformat_minor": 5
}
